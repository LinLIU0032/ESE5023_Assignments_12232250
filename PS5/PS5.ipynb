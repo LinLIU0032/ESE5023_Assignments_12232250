{
 "cells": [
  {
   "cell_type": "code",
   "execution_count": 2,
   "id": "7a16e069",
   "metadata": {},
   "outputs": [],
   "source": [
    "# packages\n",
    "import numpy as np\n",
    "from scipy import linalg\n",
    "import scipy\n",
    "from scipy import integrate\n",
    "import matplotlib.pyplot as plt"
   ]
  },
  {
   "cell_type": "markdown",
   "id": "ea32501c",
   "metadata": {},
   "source": [
    "# 1.1"
   ]
  },
  {
   "cell_type": "code",
   "execution_count": 12,
   "id": "6475da7f",
   "metadata": {},
   "outputs": [],
   "source": [
    "# Define the function\n",
    "def Without_buffer(N1, N2 ,t):\n",
    "    k12 = 105/740\n",
    "    k21 = 102/900\n",
    "    gamma = 347\n",
    "    dN1dt = -k12 * N1 + k21 * N2 + gamma\n",
    "    dN2dt = k12 * N1 - k21 * N2\n",
    "    return [dN1dt, dN2dt]\n",
    "\n",
    "# Initial condition\n",
    "Ni = [740,900]\n",
    "\n",
    "# Time points\n",
    "t = np.linspace(1985,2022,38)\n",
    "\n",
    "# Solve ODE\n",
    "f1 = integrate.odeint(Without_buffer, Ni, t)\n",
    "\n",
    "plt.plot(t,f1)\n"
   ]
  },
  {
   "cell_type": "markdown",
   "id": "6140a279",
   "metadata": {},
   "source": [
    "# 1.2"
   ]
  },
  {
   "cell_type": "code",
   "execution_count": 1,
   "id": "93ed8a3c",
   "metadata": {},
   "outputs": [],
   "source": [
    "# Define the function\n",
    "def With_buffer(N1, N2, N20, t):\n",
    "    k12 = 105/740\n",
    "    k21 = 102/900\n",
    "    gamma = 347\n",
    "    kesai = ((P-290.21)/290.21) / ((C-2.057*1e-3)/2.057*1e-3)\n",
    "    dN1dt = -k12 * N1 + k21 * (N20 + kesai*(N2 - N20)) + gamma\n",
    "    dN2dt = k12 * N1 - k21 * (N20 + kesai*(N2 - N20))\n",
    "    return [dN1dt, dN2dt]\n",
    "\n",
    "# Initial condition\n",
    "Ni = [740,900]\n",
    "\n",
    "# Time points\n",
    "t = np.linspace(1985,2022,38)\n",
    "\n",
    "# Solve ODE\n",
    "f2 = integrate.odeint(With_buffer, Ni, t)\n",
    "\n",
    "plt.plot(t,f2)"
   ]
  },
  {
   "cell_type": "markdown",
   "id": "a6bbb2dc",
   "metadata": {},
   "source": [
    "# 1.3"
   ]
  },
  {
   "cell_type": "code",
   "execution_count": null,
   "id": "07160181",
   "metadata": {},
   "outputs": [],
   "source": [
    "plt.plot(t, f1, f2,'k-','o-',linewidth = 2)"
   ]
  }
 ],
 "metadata": {
  "kernelspec": {
   "display_name": "Python 3 (ipykernel)",
   "language": "python",
   "name": "python3"
  },
  "language_info": {
   "codemirror_mode": {
    "name": "ipython",
    "version": 3
   },
   "file_extension": ".py",
   "mimetype": "text/x-python",
   "name": "python",
   "nbconvert_exporter": "python",
   "pygments_lexer": "ipython3",
   "version": "3.8.8"
  }
 },
 "nbformat": 4,
 "nbformat_minor": 5
}
