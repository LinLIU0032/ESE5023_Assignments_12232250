{
 "cells": [
  {
   "cell_type": "code",
   "execution_count": 23,
   "id": "9b7b3b08",
   "metadata": {},
   "outputs": [],
   "source": [
    "# Packages\n",
    "import itertools\n",
    "import numpy as np\n",
    "import math\n",
    "import matplotlib.pyplot as plt"
   ]
  },
  {
   "cell_type": "markdown",
   "id": "e74cee12",
   "metadata": {},
   "source": [
    "# 1. Flowchart"
   ]
  },
  {
   "cell_type": "code",
   "execution_count": 2,
   "id": "7909a192",
   "metadata": {},
   "outputs": [],
   "source": [
    "# Not elegant\n",
    "def Print_values(a,b,c):\n",
    "    if a > b:                \n",
    "        if b > c:\n",
    "            print(a+b-10*c)\n",
    "        else:\n",
    "            if a > c:\n",
    "                print(a+c-10*b)  \n",
    "            else:\n",
    "                print(c+a-10*b)\n",
    "    else:\n",
    "        if b > c:\n",
    "            if a > c:\n",
    "                print(a+c-10*b)\n",
    "            else:\n",
    "                print(c+a-10*b)\n",
    "        else:\n",
    "            print(c+b-10*a)"
   ]
  },
  {
   "cell_type": "code",
   "execution_count": 3,
   "id": "7c4125dd",
   "metadata": {},
   "outputs": [
    {
     "name": "stdout",
     "output_type": "stream",
     "text": [
      "5.5\n",
      "-72\n",
      "-33.3\n"
     ]
    }
   ],
   "source": [
    "Print_values(10,1,5.5)\n",
    "Print_values(2,8,6)\n",
    "Print_values(5,7.4,9.3)"
   ]
  },
  {
   "cell_type": "markdown",
   "id": "8c44e7f5",
   "metadata": {},
   "source": [
    "# 2. Continuous ceiling function"
   ]
  },
  {
   "cell_type": "code",
   "execution_count": 4,
   "id": "3389a663",
   "metadata": {
    "scrolled": true
   },
   "outputs": [],
   "source": [
    "def Continuous_ceiling(listq2in=[]):\n",
    "    # result array\n",
    "    listq2out = []\n",
    "    # define the F funtion \n",
    "    def F(x):\n",
    "        # F(1) = 1\n",
    "        if x == 1:\n",
    "            return 1\n",
    "        return F(math.ceil(x/3)) + 2*x\n",
    "    # fill the result array with corresponding F value.\n",
    "    for i in range(len(listq2in)):\n",
    "        listq2out.append(F(listq2in[i]))\n",
    "    # return result array\n",
    "    return listq2out"
   ]
  },
  {
   "cell_type": "code",
   "execution_count": 6,
   "id": "ee171871",
   "metadata": {},
   "outputs": [
    {
     "name": "stdout",
     "output_type": "stream",
     "text": [
      "[1, 5, 7, 13, 15, 17, 21, 23, 25]\n"
     ]
    }
   ],
   "source": [
    "testlistq2 =[1,2,3,4,5,6,7,8,9]\n",
    "print(Continuous_ceiling(testlistq2))"
   ]
  },
  {
   "cell_type": "markdown",
   "id": "9dc2d126",
   "metadata": {},
   "source": [
    "# 3. Dice rolling"
   ]
  },
  {
   "cell_type": "markdown",
   "id": "a0e55392",
   "metadata": {},
   "source": [
    "# 3.1"
   ]
  },
  {
   "cell_type": "markdown",
   "id": "4622f68a",
   "metadata": {},
   "source": [
    "Codes for 3.1 came from \n",
    "https://www.geeksforgeeks.org/dice-throw-dp-30/\n",
    "\n",
    "Till the minute before I submit my codes, I am still trying to give my own codes but I have to admit that 3.1 is too difficult for me to finish on my own. I tried to understand the codes below."
   ]
  },
  {
   "cell_type": "code",
   "execution_count": 7,
   "id": "349e607c",
   "metadata": {},
   "outputs": [],
   "source": [
    "# Python3 program to find the number of ways to get sum 'x' with 'n' \n",
    "# dice where every dice has 'm' faces\n",
    " \n",
    "# The main function that returns number of ways to get sum 'x'\n",
    "# with 'n' dice and 'm' with m faces.\n",
    "def Find_number_of_ways(x):\n",
    "    # Create a table to store results of subproblems. One extra\n",
    "    # row and column are used for simplicity (Number of dice\n",
    "    # is directly used as row index and sum is directly used\n",
    "    # as column index). The entries in 0th row and 0th column\n",
    "    # are never used.\n",
    "    table=[[0]*(x+1) for i in range(11)] #Initialize all entries as 0\n",
    "    for j in range(1,min(7,x+1)): #Table entries for only one dice\n",
    "        table[1][j]=1\n",
    "        \n",
    "    # Fill rest of the entries in table using recursive relation\n",
    "    # i: number of dice, j: sum\n",
    "    for i in range(2,11):\n",
    "        for j in range(1,x+1):\n",
    "            for k in range(1,min(7,j)):\n",
    "                table[i][j]+=table[i-1][j-k]\n",
    "     \n",
    "    #print(dt)\n",
    "    # Uncomment above line to see content of table\n",
    "    return table[-1][-1]"
   ]
  },
  {
   "cell_type": "code",
   "execution_count": 8,
   "id": "0585f3c9",
   "metadata": {},
   "outputs": [
    {
     "name": "stdout",
     "output_type": "stream",
     "text": [
      "0\n",
      "1\n",
      "10\n",
      "1151370\n",
      "55\n",
      "1\n",
      "0\n"
     ]
    }
   ],
   "source": [
    "print(Find_number_of_ways(1))\n",
    "print(Find_number_of_ways(10))\n",
    "print(Find_number_of_ways(11))\n",
    "print(Find_number_of_ways(26))\n",
    "print(Find_number_of_ways(58))\n",
    "print(Find_number_of_ways(60))\n",
    "print(Find_number_of_ways(100))"
   ]
  },
  {
   "cell_type": "markdown",
   "id": "aaec53a0",
   "metadata": {},
   "source": [
    "# 3.2"
   ]
  },
  {
   "cell_type": "code",
   "execution_count": 10,
   "id": "3cc5679d",
   "metadata": {},
   "outputs": [
    {
     "name": "stdout",
     "output_type": "stream",
     "text": [
      "35\n",
      "4395456\n"
     ]
    }
   ],
   "source": [
    "# Array to store Number_of_Ways\n",
    "Number_of_Ways = []\n",
    "for i in range(10,61):\n",
    "    # fill the array\n",
    "    Number_of_Ways.append(Find_number_of_ways(i))\n",
    "    # locat the maximum\n",
    "    if i > 0:\n",
    "        if Find_number_of_ways(i)> Find_number_of_ways(i-1):\n",
    "            Maxx = i\n",
    "# sum 35 yields the maximum of Number_of_ways\n",
    "print(Maxx)\n",
    "# The maximum is 4395456\n",
    "print(Find_number_of_ways(Maxx))"
   ]
  },
  {
   "cell_type": "markdown",
   "id": "b615ceb3",
   "metadata": {},
   "source": [
    "# 4. Dynamic programming"
   ]
  },
  {
   "cell_type": "markdown",
   "id": "0258bb6b",
   "metadata": {},
   "source": [
    "# 4.1 "
   ]
  },
  {
   "cell_type": "code",
   "execution_count": 11,
   "id": "273cec2a",
   "metadata": {},
   "outputs": [],
   "source": [
    "def Random_integer(N):\n",
    "    return np.random.randint(0,11,N)"
   ]
  },
  {
   "cell_type": "code",
   "execution_count": 12,
   "id": "7b457277",
   "metadata": {},
   "outputs": [
    {
     "name": "stdout",
     "output_type": "stream",
     "text": [
      "[ 6  2 10 10  5  4  7  2  6  0 10  5]\n"
     ]
    }
   ],
   "source": [
    "testlistq4_1 = Random_integer(12)\n",
    "print(testlistq4_1)"
   ]
  },
  {
   "cell_type": "markdown",
   "id": "ba99a382",
   "metadata": {},
   "source": [
    "# 4.2 "
   ]
  },
  {
   "cell_type": "code",
   "execution_count": 13,
   "id": "980e16af",
   "metadata": {},
   "outputs": [],
   "source": [
    "def Sum_averages(listq4_2=[]):\n",
    "    # length of listq4_2\n",
    "    n = len(listq4_2)\n",
    "    # Initialize sum of averages\n",
    "    m = 0\n",
    "    for num in range(n):\n",
    "        for i in itertools.combinations(listq4_2, num + 1):\n",
    "            # sum of the average of all subsets of listq4_2. \n",
    "            m += np.mean(i)\n",
    "    return m"
   ]
  },
  {
   "cell_type": "code",
   "execution_count": 14,
   "id": "3be0cda9",
   "metadata": {},
   "outputs": [
    {
     "name": "stdout",
     "output_type": "stream",
     "text": [
      "[8 4]\n",
      "18.0\n"
     ]
    }
   ],
   "source": [
    "testlistq4_2 = Random_integer(2)\n",
    "print(testlistq4_2)\n",
    "print(Sum_averages(testlistq4_2))"
   ]
  },
  {
   "cell_type": "markdown",
   "id": "148b43e6",
   "metadata": {},
   "source": [
    "# 4.3 "
   ]
  },
  {
   "cell_type": "code",
   "execution_count": 27,
   "id": "61ebe36a",
   "metadata": {},
   "outputs": [
    {
     "name": "stdout",
     "output_type": "stream",
     "text": [
      "[7.0, 6.0, 25.666666666666668, 75.0, 105.39999999999999, 325.5, 725.7142857142858, 1370.6250000000007, 2725.333333333333, 6240.300000000003, 11351.545454545441, 23204.999999999945, 47255.76923076932, 102978.85714285707, 211893.26666666716, 348154.6875000045, 647644.9411764776, 1019445.0000000076, 2041959.8947368693, 5714733.750000031]\n"
     ]
    }
   ],
   "source": [
    "# Array to store sum averages\n",
    "Total_sum_averages = []\n",
    "# time to reaching 100 is too long. pick 20 here as test.\n",
    "for N in range(1,21):\n",
    "    templist = Random_integer(N)\n",
    "    # print(N)         print N to show the process\n",
    "    #print(templist)   show every array\n",
    "    # fill the array\n",
    "    Total_sum_averages.append(Sum_averages(templist))\n",
    "    #print(Sum_averages(templist))  show every sum averages\n",
    "print(Total_sum_averages)"
   ]
  },
  {
   "cell_type": "code",
   "execution_count": 28,
   "id": "b6bd75eb",
   "metadata": {},
   "outputs": [
    {
     "data": {
      "text/plain": [
       "[<matplotlib.lines.Line2D at 0x247752ee7c0>]"
      ]
     },
     "execution_count": 28,
     "metadata": {},
     "output_type": "execute_result"
    },
    {
     "data": {
      "image/png": "[encoded data removed]",
      "text/plain": [
       "<Figure size 640x480 with 1 Axes>"
      ]
     },
     "metadata": {},
     "output_type": "display_data"
    }
   ],
   "source": [
    "plt.figure()\n",
    "x = np.arange(1,21)\n",
    "plt.plot(x,Total_sum_averages)"
   ]
  },
  {
   "cell_type": "markdown",
   "id": "11d37779",
   "metadata": {},
   "source": [
    "It increases slowly at the beginning, then it increases exponentially-like."
   ]
  },
  {
   "cell_type": "markdown",
   "id": "116991eb",
   "metadata": {},
   "source": [
    "# 5. Path counting"
   ]
  },
  {
   "cell_type": "markdown",
   "id": "998392fd",
   "metadata": {},
   "source": [
    "# 5.1 "
   ]
  },
  {
   "cell_type": "code",
   "execution_count": 16,
   "id": "49e4c111",
   "metadata": {},
   "outputs": [],
   "source": [
    "def create_matrix(N,M):\n",
    "    # create an array then reshape to N rows and M cols\n",
    "    myMatrix = np.random.randint(0,2,N*M).reshape(N,M)\n",
    "    # set right-bottom corner and top-left corner cells with 1\n",
    "    myMatrix[0,0] = 1\n",
    "    myMatrix[N-1,M-1]=1\n",
    "    return myMatrix"
   ]
  },
  {
   "cell_type": "code",
   "execution_count": 17,
   "id": "faa908b6",
   "metadata": {
    "scrolled": true
   },
   "outputs": [
    {
     "name": "stdout",
     "output_type": "stream",
     "text": [
      "[[1 0 0 1 0 0 1 1 0 0]\n",
      " [0 0 0 1 1 1 0 1 1 0]\n",
      " [1 1 0 1 1 0 0 1 0 0]\n",
      " [0 0 0 1 0 1 0 0 1 0]\n",
      " [0 0 1 1 0 0 1 0 1 0]\n",
      " [1 0 0 1 0 1 0 1 1 0]\n",
      " [1 0 0 0 1 1 0 1 1 1]\n",
      " [0 1 0 1 0 1 0 1 0 0]\n",
      " [1 0 0 1 0 1 1 0 1 0]\n",
      " [0 1 1 0 0 0 0 1 0 1]]\n"
     ]
    }
   ],
   "source": [
    "testmatrix = create_matrix(10,10)\n",
    "print(testmatrix)"
   ]
  },
  {
   "cell_type": "markdown",
   "id": "60304e72",
   "metadata": {},
   "source": [
    "# 5.2"
   ]
  },
  {
   "cell_type": "markdown",
   "id": "37318a36",
   "metadata": {},
   "source": [
    "Codes for 5.2 were inspired by an example in CSDN: https://blog.csdn.net/zy854816286/article/details/104894159?spm=1001.2101.3001.6650.8&utm_medium=distribute.pc_relevant.none-task-blog-2%7Edefault%7EBlogCommendFromBaidu%7ERate-8-104894159-blog-121416033.pc_relevant_3mothn_strategy_and_data_recovery&depth_1-utm_source=distribute.pc_relevant.none-task-blog-2%7Edefault%7EBlogCommendFromBaidu%7ERate-8-104894159-blog-121416033.pc_relevant_3mothn_strategy_and_data_recovery&utm_relevant_index=9"
   ]
  },
  {
   "cell_type": "code",
   "execution_count": 18,
   "id": "0293c5fd",
   "metadata": {},
   "outputs": [],
   "source": [
    "def Count_path(inMatrix=[]):\n",
    "    # N rows\n",
    "    N = len(inMatrix)      \n",
    "    # M columns\n",
    "    M = len(inMatrix[0])    \n",
    "    # create a new matrix which has identical shape of the inMatrix\n",
    "    # to store the numbers of paths to reach corresponding cell in \n",
    "    # the inMatrix.\n",
    "    path = np.zeros((N,M)) \n",
    "    # you can always reach the start cell with only one path\n",
    "    path[0,0] = 1\n",
    "    for i in range(N):\n",
    "        for j in range(M):\n",
    "            # 0 value means this cell is unreachable\n",
    "            # so path number is 0.\n",
    "            if inMatrix[i,j] == 0:\n",
    "                path[i,j] = 0\n",
    "                continue \n",
    "            # Reaching here means value of cell (i,j) in inMatrix \n",
    "            #is 1 and reachable. \n",
    "            # In row 1, reaching the point next to current cell shares\n",
    "            # the same path. \n",
    "            if(i==0)&(j!=0):\n",
    "                path[i,j]=path[i,j-1]\n",
    "            # In col 1, reaching the point next to current cell shares\n",
    "            # the same path.\n",
    "            if(i!=0)&(j==0):\n",
    "                path[i,j]=path[i-1,j]\n",
    "            # Above is based on the Notice:\"for a given cell, you \n",
    "            # are only allowed to move either rightward or downward.\"\n",
    "            # Numbers of path for a cell equals to the sum of the \n",
    "            # cell above it and the cell left to it. \n",
    "            if(i!=0)&(j!=0):\n",
    "                path[i,j]=path[i-1,j]+path[i,j-1]\n",
    "    # thus, the right-bottom corner cell of path matrix is what we want.\n",
    "    # return it.\n",
    "    return path[N-1,M-1]"
   ]
  },
  {
   "cell_type": "code",
   "execution_count": 19,
   "id": "55246034",
   "metadata": {},
   "outputs": [
    {
     "name": "stdout",
     "output_type": "stream",
     "text": [
      "27\n",
      "74.0\n",
      "[[1 1 0 0 1 0 0 0]\n",
      " [1 1 1 1 1 0 1 0]\n",
      " [1 0 1 0 0 1 1 0]\n",
      " [1 1 1 1 1 0 1 1]\n",
      " [1 1 1 1 1 1 0 0]\n",
      " [1 0 1 1 1 0 0 0]\n",
      " [1 0 0 1 1 1 0 0]\n",
      " [1 0 0 0 1 0 1 1]\n",
      " [0 0 0 1 1 1 0 0]\n",
      " [1 1 1 0 1 1 1 1]]\n"
     ]
    }
   ],
   "source": [
    "# Test \n",
    "testmatrix = create_matrix(10,8)\n",
    "# There is no way for most cases, use \"while\" to find the case\n",
    "# that there are some ways.\n",
    "count = 0\n",
    "while Count_path(testmatrix)==0:\n",
    "    testmatrix = create_matrix(10,8)\n",
    "    # to count how many times to get a solvable case\n",
    "    count += 1\n",
    "print(count)\n",
    "print(Count_path(testmatrix))\n",
    "print(testmatrix)"
   ]
  },
  {
   "cell_type": "markdown",
   "id": "e8d8e294",
   "metadata": {},
   "source": [
    "# 5.3"
   ]
  },
  {
   "cell_type": "code",
   "execution_count": 20,
   "id": "f8768cb8",
   "metadata": {},
   "outputs": [
    {
     "name": "stdout",
     "output_type": "stream",
     "text": [
      "[977   5   4   1   3   0   3   0   1   0   1   0   1   0   0   0   0   0\n",
      "   1   0   1   0   0   0   0   0   0   0   0   1   0   0   0   0   0   0\n",
      "   0   0   0   0   0   0   0   0   0   0   0   0   0   0   0   0   0   0\n",
      "   0   0   0   0   0   0   0   0   0   0   0   0   1]\n",
      "0.209\n"
     ]
    }
   ],
   "source": [
    "# Array to store number of paths\n",
    "NumbersOfPath = []\n",
    "for i in range(1000):\n",
    "    # fill the array\n",
    "    NumbersOfPath.append(Count_path(create_matrix(10,8)))\n",
    "#print(NumbersOfPath)\n",
    "# use bincount to analyze the outcome\n",
    "print(np.bincount(NumbersOfPath))\n",
    "# report the mean\n",
    "print(np.mean(NumbersOfPath))"
   ]
  },
  {
   "cell_type": "code",
   "execution_count": null,
   "id": "4cfc0ab4",
   "metadata": {},
   "outputs": [],
   "source": []
  }
 ],
 "metadata": {
  "kernelspec": {
   "display_name": "Python 3 (ipykernel)",
   "language": "python",
   "name": "python3"
  },
  "language_info": {
   "codemirror_mode": {
    "name": "ipython",
    "version": 3
   },
   "file_extension": ".py",
   "mimetype": "text/x-python",
   "name": "python",
   "nbconvert_exporter": "python",
   "pygments_lexer": "ipython3",
   "version": "3.9.12"
  }
 },
 "nbformat": 4,
 "nbformat_minor": 5
}
